{
 "nbformat": 4,
 "nbformat_minor": 0,
 "metadata": {
  "colab": {
   "provenance": []
  },
  "kernelspec": {
   "name": "python3",
   "language": "python",
   "display_name": "Python 3 (ipykernel)"
  },
  "language_info": {
   "name": "python"
  }
 },
 "cells": [
  {
   "cell_type": "code",
   "source": [
    "from google.colab import drive\n",
    "drive.mount('/content/drive')"
   ],
   "metadata": {
    "colab": {
     "base_uri": "https://localhost:8080/"
    },
    "id": "7-a8rKSotB21",
    "outputId": "ffc82533-831e-4e07-e7ed-d28e292592c7",
    "ExecuteTime": {
     "end_time": "2024-05-26T13:43:28.638988Z",
     "start_time": "2024-05-26T13:43:28.456727Z"
    }
   },
   "execution_count": 1,
   "outputs": [
    {
     "ename": "ModuleNotFoundError",
     "evalue": "No module named 'google.colab'",
     "output_type": "error",
     "traceback": [
      "\u001B[0;31m---------------------------------------------------------------------------\u001B[0m",
      "\u001B[0;31mModuleNotFoundError\u001B[0m                       Traceback (most recent call last)",
      "Cell \u001B[0;32mIn[1], line 1\u001B[0m\n\u001B[0;32m----> 1\u001B[0m \u001B[38;5;28;01mfrom\u001B[39;00m \u001B[38;5;21;01mgoogle\u001B[39;00m\u001B[38;5;21;01m.\u001B[39;00m\u001B[38;5;21;01mcolab\u001B[39;00m \u001B[38;5;28;01mimport\u001B[39;00m drive\n\u001B[1;32m      2\u001B[0m drive\u001B[38;5;241m.\u001B[39mmount(\u001B[38;5;124m'\u001B[39m\u001B[38;5;124m/content/drive\u001B[39m\u001B[38;5;124m'\u001B[39m)\n",
      "\u001B[0;31mModuleNotFoundError\u001B[0m: No module named 'google.colab'"
     ]
    }
   ]
  },
  {
   "cell_type": "code",
   "source": [
    "!sudo apt update\n",
    "!sudo apt install -y tesseract-ocr\n"
   ],
   "metadata": {
    "colab": {
     "base_uri": "https://localhost:8080/"
    },
    "id": "bn25nkT3uGCt",
    "outputId": "0dccb487-23e8-4fb7-a070-29496b2b3dc0"
   },
   "execution_count": null,
   "outputs": []
  },
  {
   "cell_type": "code",
   "source": [
    "!wget https://github.com/tesseract-ocr/tessdata/raw/main/hrv.traineddata\n",
    "!wget https://github.com/tesseract-ocr/tessdata/raw/main/srp.traineddata\n",
    "!wget https://github.com/tesseract-ocr/tessdata/raw/main/bos.traineddata\n",
    "!sudo mv hrv.traineddata /usr/share/tesseract-ocr/4.00/tessdata/\n",
    "!sudo mv srp.traineddata /usr/share/tesseract-ocr/4.00/tessdata/\n",
    "!sudo mv bos.traineddata /usr/share/tesseract-ocr/4.00/tessdata/\n"
   ],
   "metadata": {
    "colab": {
     "base_uri": "https://localhost:8080/"
    },
    "id": "Z90bVEQH0V29",
    "outputId": "c4eb73ef-27eb-4f14-ee15-b999d6df37bd"
   },
   "execution_count": null,
   "outputs": []
  },
  {
   "cell_type": "code",
   "source": [
    "!pip install pytesseract"
   ],
   "metadata": {
    "colab": {
     "base_uri": "https://localhost:8080/"
    },
    "id": "luNkpzw4tm4u",
    "outputId": "738d2c26-1cbc-49db-9c56-04607da3d6ab"
   },
   "execution_count": null,
   "outputs": []
  },
  {
   "cell_type": "code",
   "source": [
    "!sudo apt install -y tesseract-ocr-bos"
   ],
   "metadata": {
    "id": "vs0Q2FQ20MDJ"
   },
   "execution_count": null,
   "outputs": []
  },
  {
   "cell_type": "code",
   "source": [
    "!sudo apt install -y tesseract-ocr-hrv tesseract-ocr-srp tesseract-ocr-bos"
   ],
   "metadata": {
    "colab": {
     "base_uri": "https://localhost:8080/"
    },
    "id": "h6kJkVnwzrIb",
    "outputId": "6bf19e47-079e-4cec-fe5c-b0c131e8fe42"
   },
   "execution_count": null,
   "outputs": []
  },
  {
   "cell_type": "code",
   "source": [
    "import pytesseract\n",
    "\n",
    "pytesseract.pytesseract.tesseract_cmd = '/usr/bin/tesseract'\n"
   ],
   "metadata": {
    "id": "c-eL6QYEuOa2"
   },
   "execution_count": null,
   "outputs": []
  },
  {
   "cell_type": "code",
   "source": [
    "from PIL import Image\n",
    "import pytesseract\n",
    "\n",
    "# Example: Load an image and perform OCR\n",
    "image_path = 'segment1.png'  # Update this path to the image you want to process\n",
    "image = Image.open(image_path)\n",
    "text = pytesseract.image_to_string(image)\n",
    "print(text)\n"
   ],
   "metadata": {
    "colab": {
     "base_uri": "https://localhost:8080/"
    },
    "id": "LkepoaA4uRJ_",
    "outputId": "e9104ab0-a047-4ddc-c492-7300246fc1ce"
   },
   "execution_count": null,
   "outputs": []
  },
  {
   "cell_type": "code",
   "execution_count": null,
   "metadata": {
    "colab": {
     "base_uri": "https://localhost:8080/",
     "height": 93
    },
    "id": "hbyiLm4yskeM",
    "outputId": "cde7f9fd-4bbd-4f0a-ba04-daba4bfd3ee7"
   },
   "outputs": [],
   "source": [
    "import cv2\n",
    "import numpy as np\n",
    "import pytesseract\n",
    "\n",
    "from google.colab.patches import cv2_imshow\n",
    "\n",
    "# Load the img\n",
    "img = cv2.imread(\"c.jpeg\")\n",
    "\n",
    "# Cvt to hsv\n",
    "hsv = cv2.cvtColor(img, cv2.COLOR_BGR2HSV)\n",
    "\n",
    "# Get binary-mask\n",
    "msk = cv2.inRange(hsv, np.array([0, 0, 175]), np.array([179, 255, 255]))\n",
    "krn = cv2.getStructuringElement(cv2.MORPH_RECT, (5, 3))\n",
    "dlt = cv2.dilate(msk, krn, iterations=1)\n",
    "thr = 255 - cv2.bitwise_and(dlt, msk)\n",
    "cv2_imshow(thr)\n",
    "\n",
    "# OCR\n",
    "e= pytesseract.image_to_string(thr,  lang='hrv',config='--psm 10 --oem 3 -c tessedit_char_whitelist=ABCDEFGHIJKLMNOPQRSTUVWXYZ0123456789ŽČĆĐŠ')\n",
    "\n",
    "print(e)"
   ]
  }
 ]
}

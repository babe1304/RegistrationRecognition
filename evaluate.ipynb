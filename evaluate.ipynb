{
 "cells": [
  {
   "cell_type": "markdown",
   "metadata": {},
   "source": [
    "# 1. Evaluacija čitača registracija\n",
    "- ulaz: ekstrahirana slika registracije\n",
    "- izlaz: niz slova\n",
    "- metrike : \n",
    "    - apsolutna točnost = broj ispravno pročitanih tablica/ukupan broj tablica (49)\\\n",
    "    - za svako slovo : P, R, F1"
   ]
  },
  {
   "cell_type": "code",
   "execution_count": 1,
   "metadata": {},
   "outputs": [],
   "source": [
    "import os\n",
    "import pandas as pd\n",
    "import numpy as np"
   ]
  },
  {
   "cell_type": "code",
   "execution_count": 9,
   "metadata": {},
   "outputs": [
    {
     "name": "stdout",
     "output_type": "stream",
     "text": [
      "['primjer1.png', 'primjer10.png', 'primjer11.png', 'primjer12.png', 'primjer13.png', 'primjer14.png', 'primjer15.png', 'primjer16.png', 'primjer17.png', 'primjer18.png', 'primjer19.png', 'primjer2.png', 'primjer20.png', 'primjer21.png', 'primjer22.png', 'primjer23.png', 'primjer24.png', 'primjer25.png', 'primjer26.png', 'primjer27.png', 'primjer28.png', 'primjer29.png', 'primjer30.png', 'primjer31.png', 'primjer32.png', 'primjer33.png', 'primjer34.png', 'primjer35.png', 'primjer36.png', 'primjer37.png', 'primjer38.png', 'primjer39.png', 'primjer4.png', 'primjer40.png', 'primjer41.png', 'primjer42.png', 'primjer43.png', 'primjer44.png', 'primjer45.png', 'primjer46.png', 'primjer47.png', 'primjer48.png', 'primjer49.png', 'primjer5.png', 'primjer50.png', 'primjer6.png', 'primjer7.png', 'primjer8.png', 'primjer9.png']\n",
      "     ime_datoteke     oznaka\n",
      "0    primjer1.png   ZG6652JN\n",
      "1    primjer2.png   ZG7034FL\n",
      "2    primjer4.png   PU2014EC\n",
      "3    primjer5.png   ZG9002JN\n",
      "4    primjer6.png   ZG6948IZ\n",
      "5    primjer7.png    ČK148DA\n",
      "6    primjer8.png   ZG2294IJ\n",
      "7    primjer9.png    ČK148DA\n",
      "8   primjer10.png    VŽ330NH\n",
      "9   primjer11.png    VK844EN\n",
      "10  primjer12.png   ZG3601IZ\n",
      "11  primjer13.png   ZG7781JB\n",
      "12  primjer14.png   ZG8159JP\n",
      "13  primjer15.png    VK120EJ\n",
      "14  primjer16.png   ZG7060GF\n",
      "15  primjer17.png    PU883RZ\n",
      "16  primjer18.png    VK249FZ\n",
      "17  primjer19.png    ZG5675U\n",
      "18  primjer20.png   ZG1526FZ\n",
      "19  primjer21.png   ZG7869BH\n",
      "20  primjer22.png   ZG7789JL\n",
      "21  primjer23.png    PU758ZR\n",
      "22  primjer24.png   ZG2636JF\n",
      "23  primjer25.png    VK203GG\n",
      "24  primjer26.png   ZG1072IV\n",
      "25  primjer27.png   ZG9743HJ\n",
      "26  primjer28.png    OS990OP\n",
      "27  primjer29.png   ZG2399EE\n",
      "28  primjer30.png   ZG2043DR\n",
      "29  primjer31.png   ZG1950JJ\n",
      "30  primjer32.png   ZG1803DL\n",
      "31  primjer33.png   RIPV5296\n",
      "32  primjer34.png   STPV2016\n",
      "33  primjer35.png    IMPV911\n",
      "34  primjer36.png    SB672IK\n",
      "35  primjer37.png    KC440IG\n",
      "36  primjer38.png    VŽ330NH\n",
      "37  primjer39.png    PU883RZ\n",
      "38  primjer40.png    PU758ZR\n",
      "39  primjer41.png    VK249FZ\n",
      "40  primjer42.png    RI64710\n",
      "41  primjer43.png    NG479BE\n",
      "42  primjer44.png    BM419CH\n",
      "43  primjer45.png   ST0403SM\n",
      "44  primjer46.png    ST1990L\n",
      "45  primjer47.png   ZD0001PS\n",
      "46  primjer48.png   PU2014EC\n",
      "47  primjer49.png    DU113EC\n",
      "48  primjer50.png    RI2824U\n",
      "ucitano 49 primjera\n"
     ]
    }
   ],
   "source": [
    "plates = os.listdir(f\"{os.getcwd()}/segmenti\")\n",
    "print(plates)\n",
    "\n",
    "true_labels=pd.read_csv(f\"{os.getcwd()}/slike_rega/oznake.csv\")\n",
    "print(true_labels)\n",
    "print(f\"ucitano {true_labels.shape[0]} primjera\")"
   ]
  }
 ],
 "metadata": {
  "kernelspec": {
   "display_name": "Python 3",
   "language": "python",
   "name": "python3"
  },
  "language_info": {
   "codemirror_mode": {
    "name": "ipython",
    "version": 3
   },
   "file_extension": ".py",
   "mimetype": "text/x-python",
   "name": "python",
   "nbconvert_exporter": "python",
   "pygments_lexer": "ipython3",
   "version": "3.10.0"
  }
 },
 "nbformat": 4,
 "nbformat_minor": 2
}
